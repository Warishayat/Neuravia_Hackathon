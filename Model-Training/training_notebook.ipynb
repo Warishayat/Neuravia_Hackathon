{
 "cells": [
  {
   "cell_type": "code",
   "execution_count": null,
   "id": "be225843",
   "metadata": {
    "vscode": {
     "languageId": "plaintext"
    }
   },
   "outputs": [],
   "source": [
    "print(\"Traingn will be in the notebook and save it with joblib or pickle\")"
   ]
  },
  {
   "cell_type": "code",
   "execution_count": null,
   "id": "62e36574",
   "metadata": {
    "vscode": {
     "languageId": "plaintext"
    }
   },
   "outputs": [],
   "source": []
  }
 ],
 "metadata": {
  "language_info": {
   "name": "python"
  }
 },
 "nbformat": 4,
 "nbformat_minor": 5
}
